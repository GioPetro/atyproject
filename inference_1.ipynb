{
 "cells": [
  {
   "cell_type": "code",
   "execution_count": 9,
   "metadata": {},
   "outputs": [
    {
     "data": {
      "text/plain": [
       "'NVIDIA GeForce RTX 2060'"
      ]
     },
     "execution_count": 9,
     "metadata": {},
     "output_type": "execute_result"
    }
   ],
   "source": [
    "import torch\n",
    "import pandas as pd\n",
    "from datasets import load_dataset\n",
    "from sklearn.model_selection import train_test_split\n",
    "device = torch.device(\"cuda\" if torch.cuda.is_available() else \"cpu\")\n",
    "n_gpu = torch.cuda.device_count()\n",
    "torch.cuda.get_device_name(0)"
   ]
  },
  {
   "cell_type": "code",
   "execution_count": 10,
   "metadata": {},
   "outputs": [],
   "source": [
    "# Load model directly\n",
    "from transformers import AutoTokenizer, AutoModelForSequenceClassification\n",
    "\n",
    "tokenizer = AutoTokenizer.from_pretrained(\"SuiGio/roberta_pubmesh\")\n",
    "model = AutoModelForSequenceClassification.from_pretrained(\"SuiGio/roberta_pubmesh\")"
   ]
  },
  {
   "cell_type": "code",
   "execution_count": 26,
   "metadata": {},
   "outputs": [],
   "source": [
    "model.config.label2id= {\n",
    "\"Anatomy [A]\": 0,\n",
    "\"Organisms [B]\": 1,\n",
    "\"Diseases [C]\": 2,\n",
    "\"Chemicals and Drugs [D]\": 3,\n",
    "\"Analytical, Diagnostic and Therapeutic Techniques, and Equipment [E]\": 4,\n",
    "\"Psychiatry and Psychology [F]\": 5,\n",
    "\"Phenomena and Processes [G]\": 6,\n",
    "\"Disciplines and Occupations [H]\": 7,\n",
    "\"Anthropology, Education, Sociology, and Social Phenomena [I]\": 8,\n",
    "\"Technology, Industry, and Agriculture [J]\": 9,\n",
    "\"Information Science [L]\": 10,\n",
    "\"Named Groups [M]\": 11,\n",
    "\"Health Care [N]\": 12,\n",
    "\"Geographicals [Z]\": 13,\n",
    "}\n",
    "\n",
    "\n",
    "model.config.id2label={\n",
    "    \"0\": \"Anatomy [A]\",\n",
    "    \"1\": \"Organisms [B]\",\n",
    "    \"2\": \"Diseases [C]\",\n",
    "    \"3\": \"Chemicals and Drugs [D]\",\n",
    "    \"4\": \"Analytical, Diagnostic and Therapeutic Techniques, and Equipment [E]\",\n",
    "    \"5\": \"Psychiatry and Psychology [F]\",\n",
    "    \"6\": \"Phenomena and Processes [G]\",\n",
    "    \"7\": \"Disciplines and Occupations [H]\",\n",
    "    \"8\": \"Anthropology, Education, Sociology, and Social Phenomena [I]\",\n",
    "    \"9\": \"Technology, Industry, and Agriculture [J]\",\n",
    "    \"10\": \"Information Science [L]\",\n",
    "    \"11\": \"Named Groups [M]\",\n",
    "    \"12\": \"Health Care [N]\",\n",
    "    \"13\": \"Geographicals [Z]\"\n",
    "}\n",
    "\n",
    "\n"
   ]
  },
  {
   "cell_type": "code",
   "execution_count": 27,
   "metadata": {},
   "outputs": [],
   "source": [
    "user_text = \" BACKGROUND: The distal GI microbiota of hospitalized preterm neonates has been established to be unique from that of healthy full-term infants; the proximal GI, more specifically gastroesophageal colonization has not been systematically addressed. We prospectively evaluated early colonization of gastroesophageal portion of the GI tract of VLBW infants.METHODS: This study involved 12 infants admitted to a level III NICU with gestational age (GA) 27 +/- 0.5 weeks and birth weight 1105 +/- 77 grams. The gastroesophageal microbial flora was evaluated using 16S rDNA analysis of aspirates collected in a sterile manner during the first 28 days of life.RESULTS: Bacteria were detected in 9 of the 12 neonates. Ureaplasma was the dominant species in the first week of life, however, staphylococci were the predominant bacteria overall. By the fourth week, Gram (-) bacteria increased in abundance to account for 50% of the total organisms. Firmicutes were present in the majority of the neonates and persisted throughout the 4 weeks comprising nearly half of the sequenced clones. Noticeably, only two distinct species of Staphylococcus epidermidis were found, suggesting acquisition from the environment.CONCLUSIONS: In our neonates, the esophagus and stomach environment changed from being relatively sterile at birth to becoming colonized by a phylogenetically diverse microbiota of low individual complexity. By the fourth week, we found predominance of Firmicutes and Proteobacteria. Bacteria from both phyla (CONS and Gram (-) organisms) are strongly implicated as causes of hospital-acquired infections (HAI). Evaluation of the measures preventing colonization with potentially pathogenic and pathogenic microorganisms from the hospital environment may be warranted and may suggest novel approaches to improving quality in neonatal care.\"\n",
    "inputs = tokenizer(user_text, padding=True, truncation=True, max_length=128, return_tensors=\"pt\")\n",
    "input_ids = inputs[\"input_ids\"]\n",
    "attention_mask = inputs[\"attention_mask\"]"
   ]
  },
  {
   "cell_type": "code",
   "execution_count": 33,
   "metadata": {},
   "outputs": [
    {
     "name": "stdout",
     "output_type": "stream",
     "text": [
      "Prediction 1: Category: Organisms [B], Confidence: 0.56\n"
     ]
    }
   ],
   "source": [
    "model.eval()\n",
    "\n",
    "# Forward pass with the model\n",
    "with torch.no_grad():\n",
    "    # Move inputs to appropriate device (e.g., GPU if available)\n",
    "    input_ids = input_ids.to(device)\n",
    "    attention_mask = attention_mask.to(device)\n",
    "\n",
    "    # Forward pass with the model\n",
    "    outputs = model(input_ids=input_ids, attention_mask=attention_mask)\n",
    "\n",
    "# Process the outputs as needed\n",
    "# For example, if you have a classification task:\n",
    "predictions = torch.nn.functional.softmax(outputs.logits, dim=1)\n",
    "\n",
    "# Iterate over each prediction and print its category name and confidence score\n",
    "for i in range(len(predictions)):\n",
    "    predicted_label_index = predictions[i].argmax().item()\n",
    "    confidence_score = predictions[i][predicted_label_index].item()\n",
    "    category_name = model.config.id2label[str(predicted_label_index)]\n",
    "    print(f\"Prediction {i + 1}: Category: {category_name}, Confidence: {confidence_score:.2f}\")"
   ]
  },
  {
   "cell_type": "code",
   "execution_count": null,
   "metadata": {},
   "outputs": [],
   "source": []
  },
  {
   "cell_type": "code",
   "execution_count": null,
   "metadata": {},
   "outputs": [],
   "source": []
  },
  {
   "cell_type": "code",
   "execution_count": null,
   "metadata": {},
   "outputs": [],
   "source": []
  }
 ],
 "metadata": {
  "kernelspec": {
   "display_name": "Python 3",
   "language": "python",
   "name": "python3"
  },
  "language_info": {
   "codemirror_mode": {
    "name": "ipython",
    "version": 3
   },
   "file_extension": ".py",
   "mimetype": "text/x-python",
   "name": "python",
   "nbconvert_exporter": "python",
   "pygments_lexer": "ipython3",
   "version": "3.11.5"
  }
 },
 "nbformat": 4,
 "nbformat_minor": 2
}
